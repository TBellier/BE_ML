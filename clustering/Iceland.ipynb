{
 "cells": [
  {
   "cell_type": "code",
   "execution_count": null,
   "metadata": {
    "executionInfo": {
     "elapsed": 633,
     "status": "ok",
     "timestamp": 1607777234760,
     "user": {
      "displayName": "Michelle Aubrun",
      "photoUrl": "",
      "userId": "14694311087220855688"
     },
     "user_tz": -60
    },
    "id": "PGaNgS8H25OP"
   },
   "outputs": [],
   "source": [
    "import matplotlib.pyplot as plt #plotting and image viewing\n",
    "import numpy as np #numpy arrays operation\n",
    "from sklearn.cluster import KMeans"
   ]
  },
  {
   "cell_type": "code",
   "execution_count": null,
   "metadata": {
    "colab": {
     "base_uri": "https://localhost:8080/"
    },
    "executionInfo": {
     "elapsed": 620,
     "status": "ok",
     "timestamp": 1607777238838,
     "user": {
      "displayName": "Michelle Aubrun",
      "photoUrl": "",
      "userId": "14694311087220855688"
     },
     "user_tz": -60
    },
    "id": "GWwdDrxb_QOv",
    "outputId": "5a54d1bc-ff7a-4981-e718-04f64b6be15d"
   },
   "outputs": [],
   "source": [
    "img = plt.imread('Iceland.png') # Open image as array\n",
    "print(np.shape(img)) # Discover dimension "
   ]
  },
  {
   "cell_type": "code",
   "execution_count": null,
   "metadata": {
    "executionInfo": {
     "elapsed": 738,
     "status": "ok",
     "timestamp": 1607777349276,
     "user": {
      "displayName": "Michelle Aubrun",
      "photoUrl": "",
      "userId": "14694311087220855688"
     },
     "user_tz": -60
    },
    "id": "rcWr0I_N6Szg"
   },
   "outputs": [],
   "source": [
    "# Construct dataset (each band represents one feature)\n",
    "X = np.zeros((img.shape[0]*img.shape[1], img.shape[2]))\n",
    "for i in range(img.shape[2]):\n",
    "  X[:,i] = img[:,:,i].flatten()"
   ]
  },
  {
   "cell_type": "code",
   "execution_count": null,
   "metadata": {
    "executionInfo": {
     "elapsed": 17537,
     "status": "ok",
     "timestamp": 1607777466812,
     "user": {
      "displayName": "Michelle Aubrun",
      "photoUrl": "",
      "userId": "14694311087220855688"
     },
     "user_tz": -60
    },
    "id": "R9UWgH2-9cgp"
   },
   "outputs": [],
   "source": [
    "# Apply k-Means\n",
    "kmeans = KMeans(n_clusters=4).fit(X)\n",
    "classif = kmeans.labels_.reshape(img.shape[0], img.shape[1])"
   ]
  },
  {
   "cell_type": "code",
   "execution_count": null,
   "metadata": {
    "colab": {
     "base_uri": "https://localhost:8080/",
     "height": 257
    },
    "executionInfo": {
     "elapsed": 1056,
     "status": "ok",
     "timestamp": 1607777493982,
     "user": {
      "displayName": "Michelle Aubrun",
      "photoUrl": "",
      "userId": "14694311087220855688"
     },
     "user_tz": -60
    },
    "id": "hRpc44IT9ue1",
    "outputId": "e280ca0f-c0bd-4b94-f6af-e730865e983c"
   },
   "outputs": [],
   "source": [
    "# Display cluster result\n",
    "plt.figure(figsize=(12,8), dpi= 100)\n",
    "plt.imshow(classif)\n",
    "plt.show()"
   ]
  },
  {
   "cell_type": "code",
   "execution_count": null,
   "metadata": {},
   "outputs": [],
   "source": []
  }
 ],
 "metadata": {
  "colab": {
   "authorship_tag": "ABX9TyMQc87wsQdGWqCKsEiyg20u",
   "name": "Iceland.ipynb",
   "provenance": []
  },
  "kernelspec": {
   "display_name": "Python 3",
   "language": "python",
   "name": "python3"
  },
  "language_info": {
   "codemirror_mode": {
    "name": "ipython",
    "version": 3
   },
   "file_extension": ".py",
   "mimetype": "text/x-python",
   "name": "python",
   "nbconvert_exporter": "python",
   "pygments_lexer": "ipython3",
   "version": "3.7.4"
  }
 },
 "nbformat": 4,
 "nbformat_minor": 1
}